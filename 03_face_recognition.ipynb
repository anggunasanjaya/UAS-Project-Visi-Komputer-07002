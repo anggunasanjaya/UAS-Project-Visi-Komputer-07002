{
 "cells": [
  {
   "cell_type": "code",
   "execution_count": 3,
   "metadata": {},
   "outputs": [],
   "source": [
    "import cv2, time\n",
    "import numpy as np\n",
    "import os "
   ]
  },
  {
   "cell_type": "code",
   "execution_count": 4,
   "metadata": {},
   "outputs": [
    {
     "name": "stdout",
     "output_type": "stream",
     "text": [
      "\n",
      "\n",
      "\n",
      "\n",
      "\n",
      " [INFO] Exiting Program and cleanup stuff\n"
     ]
    }
   ],
   "source": [
    "recognizer = cv2.face.LBPHFaceRecognizer_create()\n",
    "recognizer.read('trainer/trainer.yml')\n",
    "cascadePath = \"haarcascade_frontalface_default.xml\"\n",
    "faceCascade = cv2.CascadeClassifier(cascadePath);\n",
    "\n",
    "font = cv2.FONT_HERSHEY_SIMPLEX\n",
    "\n",
    "#iniciate id counter\n",
    "id = 0\n",
    "\n",
    "# names related to ids: example ==> Marcelo: id=1,  etc\n",
    "names = ['Tidak Diketahui','Anugrah', 'Anggun'] \n",
    "\n",
    "# Initialize and start realtime video capture\n",
    "cam = cv2.VideoCapture(0)\n",
    "cam.set(3, 1280) # set video widht\n",
    "cam.set(4, 1024) # set video height\n",
    "\n",
    "# Define min window size to be recognized as a face\n",
    "minW = 0.1*cam.get(3)\n",
    "minH = 0.1*cam.get(4)\n",
    "\n",
    "count = 0\n",
    "count2 = 0\n",
    "\n",
    "while True:\n",
    "\n",
    "    ret, img =cam.read()\n",
    "    #img = cv2.flip(img, -1) # Flip vertically\n",
    "\n",
    "    gray = cv2.cvtColor(img,cv2.COLOR_BGR2GRAY)\n",
    "\n",
    "    faces = faceCascade.detectMultiScale( \n",
    "        gray,\n",
    "        scaleFactor = 1.1,\n",
    "        minNeighbors = 5,\n",
    "        minSize = (int(minW), int(minH)),\n",
    "       )\n",
    "\n",
    "    for(x,y,w,h) in faces:\n",
    "\n",
    "        cv2.rectangle(img, (x,y), (x+w,y+h), (255,255,255), 2)\n",
    "\n",
    "        id, confidence = recognizer.predict(gray[y:y+h,x:x+w])\n",
    "\n",
    "        # Check if confidence is less them 100 ==> \"0\" is perfect match \n",
    "        if (confidence <= 35):\n",
    "            count2 = 0\n",
    "            count += 1\n",
    "\n",
    "            if (count == 1) :\n",
    "                print()\n",
    "\n",
    "\n",
    "            id = names[id]\n",
    "        \n",
    "            cv2.putText(img, str(id), (x+5,y-5), font, 1, (0,255,0), 3)\n",
    "\n",
    "            if (count == 30) :\n",
    "                count = 0\n",
    "\n",
    "        else:\n",
    "            count = 0\n",
    "            count2 += 1\n",
    "            id = names[0]\n",
    "            cv2.putText(img, str(id), (x+5,y-5), font, 1, (0,0,255), 3)\n",
    "            \n",
    "            if (count2 == 30) :\n",
    "                count2 = 0\n",
    "\n",
    "    \n",
    "    cv2.imshow('camera',img) \n",
    "\n",
    "    k = cv2.waitKey(10) & 0xff # Press 'ESC' for exiting video\n",
    "    if k == 27:\n",
    "        break\n",
    "\n",
    "# Do a bit of cleanup\n",
    "print(\"\\n [INFO] Exiting Program and cleanup stuff\")\n",
    "cam.release()\n",
    "cv2.destroyAllWindows()"
   ]
  },
  {
   "cell_type": "code",
   "execution_count": null,
   "metadata": {},
   "outputs": [],
   "source": []
  }
 ],
 "metadata": {
  "kernelspec": {
   "display_name": "Python 3",
   "language": "python",
   "name": "python3"
  },
  "language_info": {
   "codemirror_mode": {
    "name": "ipython",
    "version": 3
   },
   "file_extension": ".py",
   "mimetype": "text/x-python",
   "name": "python",
   "nbconvert_exporter": "python",
   "pygments_lexer": "ipython3",
   "version": "3.8.5"
  }
 },
 "nbformat": 4,
 "nbformat_minor": 4
}
